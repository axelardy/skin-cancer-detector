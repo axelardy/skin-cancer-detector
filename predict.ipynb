{
 "cells": [
  {
   "cell_type": "code",
   "execution_count": 43,
   "metadata": {},
   "outputs": [],
   "source": [
    "from ultralytics import YOLO\n",
    "from torchviz import make_dot\n",
    "#initialize model\n",
    "model = YOLO('../skin-cancer-detector/model/skin_cancer_v2.pt')"
   ]
  },
  {
   "cell_type": "code",
   "execution_count": 46,
   "metadata": {},
   "outputs": [
    {
     "name": "stdout",
     "output_type": "stream",
     "text": [
      "\n",
      "image 1/1 c:\\Users\\ctlab\\DSS\\skin-cancer-detector\\..\\skin-cancer-detector\\dataset\\HAM10000_images\\ISIC_0033834.jpg: 64x64 mel 0.67, bkl 0.23, nv 0.11, akiec 0.00, bcc 0.00, 5.0ms\n",
      "Speed: 1.0ms preprocess, 5.0ms inference, 0.0ms postprocess per image at shape (1, 3, 64, 64)\n"
     ]
    },
    {
     "ename": "TypeError",
     "evalue": "unhashable type: 'list'",
     "output_type": "error",
     "traceback": [
      "\u001b[1;31m---------------------------------------------------------------------------\u001b[0m",
      "\u001b[1;31mTypeError\u001b[0m                                 Traceback (most recent call last)",
      "Cell \u001b[1;32mIn[46], line 1\u001b[0m\n\u001b[1;32m----> 1\u001b[0m \u001b[43mmake_dot\u001b[49m\u001b[43m(\u001b[49m\u001b[43mmodel\u001b[49m\u001b[43m(\u001b[49m\u001b[38;5;124;43m'\u001b[39;49m\u001b[38;5;124;43m../skin-cancer-detector/dataset/HAM10000_images/ISIC_0033834.jpg\u001b[39;49m\u001b[38;5;124;43m'\u001b[39;49m\u001b[43m)\u001b[49m\u001b[43m,\u001b[49m\u001b[43m \u001b[49m\u001b[43mparams\u001b[49m\u001b[38;5;241;43m=\u001b[39;49m\u001b[38;5;28;43mdict\u001b[39;49m\u001b[43m(\u001b[49m\u001b[43mmodel\u001b[49m\u001b[38;5;241;43m.\u001b[39;49m\u001b[43mnamed_parameters\u001b[49m\u001b[43m(\u001b[49m\u001b[43m)\u001b[49m\u001b[43m)\u001b[49m\u001b[43m)\u001b[49m\n",
      "File \u001b[1;32mc:\\Users\\ctlab\\anaconda3\\envs\\yolo\\lib\\site-packages\\torchviz\\dot.py:164\u001b[0m, in \u001b[0;36mmake_dot\u001b[1;34m(var, params, show_attrs, show_saved, max_attr_chars)\u001b[0m\n\u001b[0;32m    162\u001b[0m         add_base_tensor(v)\n\u001b[0;32m    163\u001b[0m \u001b[38;5;28;01melse\u001b[39;00m:\n\u001b[1;32m--> 164\u001b[0m     \u001b[43madd_base_tensor\u001b[49m\u001b[43m(\u001b[49m\u001b[43mvar\u001b[49m\u001b[43m)\u001b[49m\n\u001b[0;32m    166\u001b[0m resize_graph(dot)\n\u001b[0;32m    168\u001b[0m \u001b[38;5;28;01mreturn\u001b[39;00m dot\n",
      "File \u001b[1;32mc:\\Users\\ctlab\\anaconda3\\envs\\yolo\\lib\\site-packages\\torchviz\\dot.py:147\u001b[0m, in \u001b[0;36mmake_dot.<locals>.add_base_tensor\u001b[1;34m(var, color)\u001b[0m\n\u001b[0;32m    146\u001b[0m \u001b[38;5;28;01mdef\u001b[39;00m \u001b[38;5;21madd_base_tensor\u001b[39m(var, color\u001b[38;5;241m=\u001b[39m\u001b[38;5;124m'\u001b[39m\u001b[38;5;124mdarkolivegreen1\u001b[39m\u001b[38;5;124m'\u001b[39m):\n\u001b[1;32m--> 147\u001b[0m     \u001b[38;5;28;01mif\u001b[39;00m \u001b[43mvar\u001b[49m\u001b[43m \u001b[49m\u001b[38;5;129;43;01min\u001b[39;49;00m\u001b[43m \u001b[49m\u001b[43mseen\u001b[49m:\n\u001b[0;32m    148\u001b[0m         \u001b[38;5;28;01mreturn\u001b[39;00m\n\u001b[0;32m    149\u001b[0m     seen\u001b[38;5;241m.\u001b[39madd(var)\n",
      "\u001b[1;31mTypeError\u001b[0m: unhashable type: 'list'"
     ]
    }
   ],
   "source": [
    "make_dot(model('../skin-cancer-detector/dataset/HAM10000_images/ISIC_0033834.jpg'), params=dict(model.named_parameters()))"
   ]
  },
  {
   "cell_type": "code",
   "execution_count": 30,
   "metadata": {},
   "outputs": [
    {
     "name": "stdout",
     "output_type": "stream",
     "text": [
      "\n",
      "image 1/1 c:\\Users\\ctlab\\DSS\\skin-cancer-detector\\..\\skin-cancer-detector\\dataset\\HAM10000_images\\ISIC_0033834.jpg: 64x64 mel 0.67, bkl 0.23, nv 0.11, akiec 0.00, bcc 0.00, 11.0ms\n",
      "Speed: 1.0ms preprocess, 11.0ms inference, 0.0ms postprocess per image at shape (1, 3, 64, 64)\n"
     ]
    }
   ],
   "source": [
    "# prediction\n",
    "result = model('../skin-cancer-detector/dataset/HAM10000_images/ISIC_0033834.jpg')"
   ]
  },
  {
   "cell_type": "code",
   "execution_count": 31,
   "metadata": {},
   "outputs": [],
   "source": [
    "# dictionary of predictions\n",
    "abb_dict = result[0].names\n",
    "name_dict = {'akiec': 'Actinic keratoses and intraepithelial carcinoma / Bowen\\'s disease',\n",
    "                'bcc': 'Basal cell carcinoma',\n",
    "                'bkl': 'Benign keratosis-like lesions',\n",
    "                'df': 'Dermatofibroma',\n",
    "                'mel': 'Melanoma',\n",
    "                'nv': 'Melanocytic nevi',\n",
    "                'vasc': 'Vascular lesions'}\n"
   ]
  },
  {
   "cell_type": "code",
   "execution_count": 32,
   "metadata": {},
   "outputs": [
    {
     "name": "stdout",
     "output_type": "stream",
     "text": [
      "[66.59869, 22.50354, 10.70411, 0.1791, 0.00899]\n",
      "['mel', 'bkl', 'nv', 'akiec', 'bcc']\n"
     ]
    }
   ],
   "source": [
    "# class prediction\n",
    "probs = result[0].probs.top5conf.cpu()\n",
    "index = result[0].probs.top5\n",
    "probs = probs.numpy()\n",
    "percentage_values = [round(value * 100, 5) for value in probs]\n",
    "\n",
    "\n",
    "print(percentage_values)\n",
    "index = [abb_dict[i] for i in index]\n",
    "print(index)\n",
    "# print(abb_dict[probs])\n",
    "# print(name_dict[str(abb_dict[probs])])"
   ]
  },
  {
   "cell_type": "code",
   "execution_count": 33,
   "metadata": {},
   "outputs": [
    {
     "name": "stdout",
     "output_type": "stream",
     "text": [
      "{'mel': 66.59869, 'bkl': 22.50354, 'nv': 10.70411, 'akiec': 0.1791, 'bcc': 0.00899}\n"
     ]
    }
   ],
   "source": [
    "# percentage_values and index to dictionary\n",
    "percentage_values = dict(zip(index, percentage_values))\n",
    "print(percentage_values)"
   ]
  },
  {
   "cell_type": "code",
   "execution_count": 41,
   "metadata": {},
   "outputs": [
    {
     "name": "stdout",
     "output_type": "stream",
     "text": [
      "[   0.001791  8.9865e-05     0.22504  3.1142e-05     0.66599     0.10704   2.473e-05]\n"
     ]
    }
   ],
   "source": [
    "result_probs = result[0].probs.cpu().numpy()\n",
    "print(result_probs.data)"
   ]
  },
  {
   "cell_type": "code",
   "execution_count": 42,
   "metadata": {},
   "outputs": [
    {
     "name": "stdout",
     "output_type": "stream",
     "text": [
      "{0: 'akiec', 1: 'bcc', 2: 'bkl', 3: 'df', 4: 'mel', 5: 'nv', 6: 'vasc'}\n"
     ]
    }
   ],
   "source": [
    "print(result[0].names)"
   ]
  },
  {
   "cell_type": "code",
   "execution_count": null,
   "metadata": {},
   "outputs": [],
   "source": []
  }
 ],
 "metadata": {
  "kernelspec": {
   "display_name": "yolo",
   "language": "python",
   "name": "python3"
  },
  "language_info": {
   "codemirror_mode": {
    "name": "ipython",
    "version": 3
   },
   "file_extension": ".py",
   "mimetype": "text/x-python",
   "name": "python",
   "nbconvert_exporter": "python",
   "pygments_lexer": "ipython3",
   "version": "3.8.17"
  }
 },
 "nbformat": 4,
 "nbformat_minor": 2
}
