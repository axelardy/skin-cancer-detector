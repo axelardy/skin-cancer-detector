{
 "cells": [
  {
   "cell_type": "code",
   "execution_count": 29,
   "metadata": {},
   "outputs": [],
   "source": [
    "from ultralytics import YOLO\n",
    "#initialize model\n",
    "model = YOLO('../skin-cancer-detector/model/skin_cancer_v2.pt')"
   ]
  },
  {
   "cell_type": "code",
   "execution_count": 30,
   "metadata": {},
   "outputs": [
    {
     "name": "stdout",
     "output_type": "stream",
     "text": [
      "\n",
      "image 1/1 c:\\Users\\ctlab\\DSS\\skin-cancer-detector\\..\\skin-cancer-detector\\dataset\\HAM10000_images\\ISIC_0033834.jpg: 64x64 mel 0.67, bkl 0.23, nv 0.11, akiec 0.00, bcc 0.00, 11.0ms\n",
      "Speed: 1.0ms preprocess, 11.0ms inference, 0.0ms postprocess per image at shape (1, 3, 64, 64)\n"
     ]
    }
   ],
   "source": [
    "# prediction\n",
    "result = model('../skin-cancer-detector/dataset/HAM10000_images/ISIC_0033834.jpg')"
   ]
  },
  {
   "cell_type": "code",
   "execution_count": 31,
   "metadata": {},
   "outputs": [],
   "source": [
    "# dictionary of predictions\n",
    "abb_dict = result[0].names\n",
    "name_dict = {'akiec': 'Actinic keratoses and intraepithelial carcinoma / Bowen\\'s disease',\n",
    "                'bcc': 'Basal cell carcinoma',\n",
    "                'bkl': 'Benign keratosis-like lesions',\n",
    "                'df': 'Dermatofibroma',\n",
    "                'mel': 'Melanoma',\n",
    "                'nv': 'Melanocytic nevi',\n",
    "                'vasc': 'Vascular lesions'}\n"
   ]
  },
  {
   "cell_type": "code",
   "execution_count": 32,
   "metadata": {},
   "outputs": [
    {
     "name": "stdout",
     "output_type": "stream",
     "text": [
      "[66.59869, 22.50354, 10.70411, 0.1791, 0.00899]\n",
      "['mel', 'bkl', 'nv', 'akiec', 'bcc']\n"
     ]
    }
   ],
   "source": [
    "# class prediction\n",
    "probs = result[0].probs.top5conf.cpu()\n",
    "index = result[0].probs.top5\n",
    "probs = probs.numpy()\n",
    "percentage_values = [round(value * 100, 5) for value in probs]\n",
    "\n",
    "\n",
    "print(percentage_values)\n",
    "index = [abb_dict[i] for i in index]\n",
    "print(index)\n",
    "# print(abb_dict[probs])\n",
    "# print(name_dict[str(abb_dict[probs])])"
   ]
  },
  {
   "cell_type": "code",
   "execution_count": 33,
   "metadata": {},
   "outputs": [
    {
     "name": "stdout",
     "output_type": "stream",
     "text": [
      "{'mel': 66.59869, 'bkl': 22.50354, 'nv': 10.70411, 'akiec': 0.1791, 'bcc': 0.00899}\n"
     ]
    }
   ],
   "source": [
    "# percentage_values and index to dictionary\n",
    "percentage_values = dict(zip(index, percentage_values))\n",
    "print(percentage_values)"
   ]
  },
  {
   "cell_type": "code",
   "execution_count": 40,
   "metadata": {},
   "outputs": [
    {
     "name": "stdout",
     "output_type": "stream",
     "text": [
      "tensor([1.7910e-03, 8.9865e-05, 2.2504e-01, 3.1142e-05, 6.6599e-01, 1.0704e-01, 2.4730e-05])\n"
     ]
    }
   ],
   "source": [
    "result_probs = result[0].probs.cpu().numpy()\n",
    "print(result_probs.data)"
   ]
  },
  {
   "cell_type": "code",
   "execution_count": null,
   "metadata": {},
   "outputs": [],
   "source": []
  }
 ],
 "metadata": {
  "kernelspec": {
   "display_name": "yolo",
   "language": "python",
   "name": "python3"
  },
  "language_info": {
   "codemirror_mode": {
    "name": "ipython",
    "version": 3
   },
   "file_extension": ".py",
   "mimetype": "text/x-python",
   "name": "python",
   "nbconvert_exporter": "python",
   "pygments_lexer": "ipython3",
   "version": "3.8.17"
  }
 },
 "nbformat": 4,
 "nbformat_minor": 2
}
