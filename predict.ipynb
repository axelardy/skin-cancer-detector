{
 "cells": [
  {
   "cell_type": "code",
   "execution_count": 13,
   "metadata": {},
   "outputs": [],
   "source": [
    "from ultralytics import YOLO\n",
    "model = YOLO('../skin-cancer-detector/model/skin_cancer_v2.pt')"
   ]
  },
  {
   "cell_type": "code",
   "execution_count": 14,
   "metadata": {},
   "outputs": [
    {
     "name": "stdout",
     "output_type": "stream",
     "text": [
      "\n",
      "image 1/1 c:\\Users\\ctlab\\DSS\\skin-cancer-detector\\..\\skin-cancer-detector\\prep_dataset\\1245.png: 64x64 nv 0.94, mel 0.06, bkl 0.00, vasc 0.00, df 0.00, 9.9ms\n",
      "Speed: 1.0ms preprocess, 9.9ms inference, 0.0ms postprocess per image at shape (1, 3, 64, 64)\n"
     ]
    }
   ],
   "source": [
    "result = model('../skin-cancer-detector/prep_dataset/1245.png')"
   ]
  },
  {
   "cell_type": "code",
   "execution_count": null,
   "metadata": {},
   "outputs": [],
   "source": [
    "abb_dict = {0: 'akiec', 1: 'bcc', 2: 'bkl', 3: 'df', 4: 'mel', 5: 'nv', 6: 'vasc'}\n",
    "name_dict = {'akiec': 'Actinic keratoses and intraepithelial carcinoma / Bowen\\'s disease',\n",
    "                'bcc': 'Basal cell carcinoma',\n",
    "                'bkl': 'Benign keratosis-like lesions',\n",
    "                'df': 'Dermatofibroma',\n",
    "                'mel': 'Melanoma',\n",
    "                'nv': 'Melanocytic nevi',\n",
    "                'vasc': 'Vascular lesions'}\n"
   ]
  },
  {
   "cell_type": "code",
   "execution_count": 20,
   "metadata": {},
   "outputs": [
    {
     "name": "stdout",
     "output_type": "stream",
     "text": [
      "[ultralytics.engine.results.Results object with attributes:\n",
      "\n",
      "boxes: None\n",
      "keypoints: None\n",
      "masks: None\n",
      "names: {0: 'akiec', 1: 'bcc', 2: 'bkl', 3: 'df', 4: 'mel', 5: 'nv', 6: 'vasc'}\n",
      "orig_img: array([[[ 95, 108, 139],\n",
      "        [112, 119, 149],\n",
      "        [123, 126, 155],\n",
      "        ...,\n",
      "        [152, 146, 173],\n",
      "        [136, 138, 164],\n",
      "        [122, 127, 153]],\n",
      "\n",
      "       [[101, 113, 144],\n",
      "        [113, 121, 151],\n",
      "        [125, 129, 158],\n",
      "        ...,\n",
      "        [153, 148, 175],\n",
      "        [144, 143, 168],\n",
      "        [126, 132, 158]],\n",
      "\n",
      "       [[106, 113, 146],\n",
      "        [118, 125, 155],\n",
      "        [123, 129, 160],\n",
      "        ...,\n",
      "        [145, 145, 175],\n",
      "        [146, 144, 170],\n",
      "        [128, 133, 161]],\n",
      "\n",
      "       ...,\n",
      "\n",
      "       [[102, 111, 148],\n",
      "        [119, 121, 156],\n",
      "        [136, 137, 167],\n",
      "        ...,\n",
      "        [130, 136, 165],\n",
      "        [121, 131, 160],\n",
      "        [107, 120, 148]],\n",
      "\n",
      "       [[100, 108, 140],\n",
      "        [110, 119, 151],\n",
      "        [120, 127, 158],\n",
      "        ...,\n",
      "        [127, 133, 162],\n",
      "        [114, 127, 156],\n",
      "        [ 91, 105, 129]],\n",
      "\n",
      "       [[ 95, 100, 128],\n",
      "        [103, 115, 147],\n",
      "        [108, 118, 153],\n",
      "        ...,\n",
      "        [119, 128, 158],\n",
      "        [102, 116, 144],\n",
      "        [ 66,  77,  98]]], dtype=uint8)\n",
      "orig_shape: (28, 28)\n",
      "path: 'c:\\\\Users\\\\ctlab\\\\DSS\\\\skin-cancer-detector\\\\..\\\\skin-cancer-detector\\\\prep_dataset\\\\1245.png'\n",
      "probs: ultralytics.engine.results.Probs object\n",
      "save_dir: None\n",
      "speed: {'preprocess': 1.0256767272949219, 'inference': 9.948253631591797, 'postprocess': 0.0}]\n"
     ]
    }
   ],
   "source": [
    "# class names\n",
    "print(result)\n",
    "    "
   ]
  },
  {
   "cell_type": "code",
   "execution_count": 21,
   "metadata": {},
   "outputs": [
    {
     "name": "stdout",
     "output_type": "stream",
     "text": [
      "nv\n"
     ]
    }
   ],
   "source": [
    "name_dict = result[0].names\n",
    "probs = result[0].probs.top1\n",
    "print(abb_dict[probs])\n",
    "print(name_dict[abb_dict[probs]])"
   ]
  },
  {
   "cell_type": "code",
   "execution_count": null,
   "metadata": {},
   "outputs": [],
   "source": []
  }
 ],
 "metadata": {
  "kernelspec": {
   "display_name": "yolo",
   "language": "python",
   "name": "python3"
  },
  "language_info": {
   "codemirror_mode": {
    "name": "ipython",
    "version": 3
   },
   "file_extension": ".py",
   "mimetype": "text/x-python",
   "name": "python",
   "nbconvert_exporter": "python",
   "pygments_lexer": "ipython3",
   "version": "3.8.17"
  }
 },
 "nbformat": 4,
 "nbformat_minor": 2
}
