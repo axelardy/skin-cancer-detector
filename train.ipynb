{
 "cells": [
  {
   "cell_type": "code",
   "execution_count": 10,
   "metadata": {},
   "outputs": [
    {
     "name": "stderr",
     "output_type": "stream",
     "text": [
      "Ultralytics YOLOv8.0.42  Python-3.8.17 torch-1.13.1+cu116 CUDA:0 (NVIDIA GeForce RTX 3060 Ti, 8192MiB)\n"
     ]
    },
    {
     "name": "stderr",
     "output_type": "stream",
     "text": [
      "\u001b[34m\u001b[1myolo\\engine\\trainer: \u001b[0mtask=classify, mode=train, model=/model/yolov8s-cls.pt, data=../skin-cancer-detector/prep_dataset/test, epochs=100, patience=50, batch=16, imgsz=28, save=True, save_period=-1, cache=False, device=None, workers=16, project=None, name=None, exist_ok=False, pretrained=False, optimizer=SGD, verbose=True, seed=0, deterministic=True, single_cls=False, image_weights=False, rect=False, cos_lr=False, close_mosaic=10, resume=False, min_memory=False, overlap_mask=True, mask_ratio=4, dropout=0.0, val=True, split=val, save_json=False, save_hybrid=False, conf=None, iou=0.7, max_det=300, half=False, dnn=False, plots=True, source=None, show=False, save_txt=False, save_conf=False, save_crop=False, hide_labels=False, hide_conf=False, vid_stride=1, line_thickness=3, visualize=False, augment=False, agnostic_nms=False, classes=None, retina_masks=False, boxes=True, format=torchscript, keras=False, optimize=False, int8=False, dynamic=False, simplify=False, opset=None, workspace=4, nms=False, lr0=0.1, lrf=0.01, momentum=0.937, weight_decay=0.0001, warmup_epochs=0, warmup_momentum=0.8, warmup_bias_lr=0.1, box=7.5, cls=0.5, dfl=1.5, fl_gamma=0.0, label_smoothing=0.1, nbs=256, hsv_h=0.015, hsv_s=0.7, hsv_v=0.4, degrees=0.0, translate=0.1, scale=0.5, shear=0.0, perspective=0.0, flipud=0.0, fliplr=0.5, mosaic=1.0, mixup=0.0, copy_paste=0.0, cfg=None, v5loader=False, tracker=botsort.yaml, save_dir=runs\\classify\\train10\n",
      "\n",
      "Dataset not found , missing path C:\\Users\\ctlab\\final project\\yolov8-fastapi\\skin-cancer-detector\\prep_dataset\\test, attempting download...\n",
      "Downloading https://github.com/ultralytics/yolov5/releases/download/v1.0/../skin-cancer-detector/prep_dataset/test.zip to C:\\Users\\ctlab\\final project\\yolov8-fastapi\\skin-cancer-detector\\prep_dataset\\test.zip...\n",
      " Download failure, retrying 1/3 https://github.com/ultralytics/yolov5/releases/download/v1.0/../skin-cancer-detector/prep_dataset/test.zip...\n",
      "Unzipping C:\\Users\\ctlab\\final project\\yolov8-fastapi\\skin-cancer-detector\\prep_dataset\\test.zip to C:\\Users\\ctlab\\final project\\yolov8-fastapi\\skin-cancer-detector\\prep_dataset...\n"
     ]
    },
    {
     "ename": "FileNotFoundError",
     "evalue": "Dataset '../skin-cancer-detector/prep_dataset/test' error  File 'C:\\Users\\ctlab\\final project\\yolov8-fastapi\\skin-cancer-detector\\prep_dataset\\test.zip' does not exist or is a bad zip file.",
     "output_type": "error",
     "traceback": [
      "\u001b[1;31m---------------------------------------------------------------------------\u001b[0m",
      "\u001b[1;31mBadZipFile\u001b[0m                                Traceback (most recent call last)",
      "File \u001b[1;32mc:\\Users\\ctlab\\anaconda3\\envs\\yolo\\lib\\site-packages\\ultralytics\\yolo\\engine\\trainer.py:125\u001b[0m, in \u001b[0;36mBaseTrainer.__init__\u001b[1;34m(self, cfg, overrides)\u001b[0m\n\u001b[0;32m    124\u001b[0m \u001b[39mif\u001b[39;00m \u001b[39mself\u001b[39m\u001b[39m.\u001b[39margs\u001b[39m.\u001b[39mtask \u001b[39m==\u001b[39m \u001b[39m'\u001b[39m\u001b[39mclassify\u001b[39m\u001b[39m'\u001b[39m:\n\u001b[1;32m--> 125\u001b[0m     \u001b[39mself\u001b[39m\u001b[39m.\u001b[39mdata \u001b[39m=\u001b[39m check_cls_dataset(\u001b[39mself\u001b[39;49m\u001b[39m.\u001b[39;49margs\u001b[39m.\u001b[39;49mdata)\n\u001b[0;32m    126\u001b[0m \u001b[39melif\u001b[39;00m \u001b[39mself\u001b[39m\u001b[39m.\u001b[39margs\u001b[39m.\u001b[39mdata\u001b[39m.\u001b[39mendswith(\u001b[39m'\u001b[39m\u001b[39m.yaml\u001b[39m\u001b[39m'\u001b[39m) \u001b[39mor\u001b[39;00m \u001b[39mself\u001b[39m\u001b[39m.\u001b[39margs\u001b[39m.\u001b[39mtask \u001b[39min\u001b[39;00m (\u001b[39m'\u001b[39m\u001b[39mdetect\u001b[39m\u001b[39m'\u001b[39m, \u001b[39m'\u001b[39m\u001b[39msegment\u001b[39m\u001b[39m'\u001b[39m):\n",
      "File \u001b[1;32mc:\\Users\\ctlab\\anaconda3\\envs\\yolo\\lib\\site-packages\\ultralytics\\yolo\\data\\utils.py:284\u001b[0m, in \u001b[0;36mcheck_cls_dataset\u001b[1;34m(dataset)\u001b[0m\n\u001b[0;32m    283\u001b[0m     url \u001b[39m=\u001b[39m \u001b[39mf\u001b[39m\u001b[39m'\u001b[39m\u001b[39mhttps://github.com/ultralytics/yolov5/releases/download/v1.0/\u001b[39m\u001b[39m{\u001b[39;00mdataset\u001b[39m}\u001b[39;00m\u001b[39m.zip\u001b[39m\u001b[39m'\u001b[39m\n\u001b[1;32m--> 284\u001b[0m     download(url, \u001b[39mdir\u001b[39;49m\u001b[39m=\u001b[39;49mdata_dir\u001b[39m.\u001b[39;49mparent)\n\u001b[0;32m    285\u001b[0m s \u001b[39m=\u001b[39m \u001b[39mf\u001b[39m\u001b[39m\"\u001b[39m\u001b[39mDataset download success ✅ (\u001b[39m\u001b[39m{\u001b[39;00mtime\u001b[39m.\u001b[39mtime()\u001b[39m \u001b[39m\u001b[39m-\u001b[39m\u001b[39m \u001b[39mt\u001b[39m:\u001b[39;00m\u001b[39m.1f\u001b[39m\u001b[39m}\u001b[39;00m\u001b[39ms), saved to \u001b[39m\u001b[39m{\u001b[39;00mcolorstr(\u001b[39m'\u001b[39m\u001b[39mbold\u001b[39m\u001b[39m'\u001b[39m,\u001b[39m \u001b[39mdata_dir)\u001b[39m}\u001b[39;00m\u001b[39m\\n\u001b[39;00m\u001b[39m\"\u001b[39m\n",
      "File \u001b[1;32mc:\\Users\\ctlab\\anaconda3\\envs\\yolo\\lib\\site-packages\\ultralytics\\yolo\\utils\\downloads.py:199\u001b[0m, in \u001b[0;36mdownload\u001b[1;34m(url, dir, unzip, delete, curl, threads, retry)\u001b[0m\n\u001b[0;32m    198\u001b[0m \u001b[39mfor\u001b[39;00m u \u001b[39min\u001b[39;00m [url] \u001b[39mif\u001b[39;00m \u001b[39misinstance\u001b[39m(url, (\u001b[39mstr\u001b[39m, Path)) \u001b[39melse\u001b[39;00m url:\n\u001b[1;32m--> 199\u001b[0m     safe_download(url\u001b[39m=\u001b[39;49mu, \u001b[39mdir\u001b[39;49m\u001b[39m=\u001b[39;49m\u001b[39mdir\u001b[39;49m, unzip\u001b[39m=\u001b[39;49munzip, delete\u001b[39m=\u001b[39;49mdelete, curl\u001b[39m=\u001b[39;49mcurl, retry\u001b[39m=\u001b[39;49mretry)\n",
      "File \u001b[1;32mc:\\Users\\ctlab\\anaconda3\\envs\\yolo\\lib\\site-packages\\ultralytics\\yolo\\utils\\downloads.py:123\u001b[0m, in \u001b[0;36msafe_download\u001b[1;34m(url, file, dir, unzip, delete, curl, retry, min_bytes, progress)\u001b[0m\n\u001b[0;32m    122\u001b[0m \u001b[39mif\u001b[39;00m f\u001b[39m.\u001b[39msuffix \u001b[39m==\u001b[39m \u001b[39m'\u001b[39m\u001b[39m.zip\u001b[39m\u001b[39m'\u001b[39m:\n\u001b[1;32m--> 123\u001b[0m     unzip_dir \u001b[39m=\u001b[39m unzip_file(file\u001b[39m=\u001b[39;49mf, path\u001b[39m=\u001b[39;49munzip_dir)  \u001b[39m# unzip\u001b[39;00m\n\u001b[0;32m    124\u001b[0m \u001b[39melif\u001b[39;00m f\u001b[39m.\u001b[39msuffix \u001b[39m==\u001b[39m \u001b[39m'\u001b[39m\u001b[39m.tar\u001b[39m\u001b[39m'\u001b[39m:\n",
      "File \u001b[1;32mc:\\Users\\ctlab\\anaconda3\\envs\\yolo\\lib\\site-packages\\ultralytics\\yolo\\utils\\downloads.py:42\u001b[0m, in \u001b[0;36munzip_file\u001b[1;34m(file, path, exclude)\u001b[0m\n\u001b[0;32m     41\u001b[0m \u001b[39mif\u001b[39;00m \u001b[39mnot\u001b[39;00m (Path(file)\u001b[39m.\u001b[39mexists() \u001b[39mand\u001b[39;00m is_zipfile(file)):\n\u001b[1;32m---> 42\u001b[0m     \u001b[39mraise\u001b[39;00m BadZipFile(\u001b[39mf\u001b[39m\u001b[39m\"\u001b[39m\u001b[39mFile \u001b[39m\u001b[39m'\u001b[39m\u001b[39m{\u001b[39;00mfile\u001b[39m}\u001b[39;00m\u001b[39m'\u001b[39m\u001b[39m does not exist or is a bad zip file.\u001b[39m\u001b[39m\"\u001b[39m)\n\u001b[0;32m     43\u001b[0m \u001b[39mif\u001b[39;00m path \u001b[39mis\u001b[39;00m \u001b[39mNone\u001b[39;00m:\n",
      "\u001b[1;31mBadZipFile\u001b[0m: File 'C:\\Users\\ctlab\\final project\\yolov8-fastapi\\skin-cancer-detector\\prep_dataset\\test.zip' does not exist or is a bad zip file.",
      "\nThe above exception was the direct cause of the following exception:\n",
      "\u001b[1;31mFileNotFoundError\u001b[0m                         Traceback (most recent call last)",
      "\u001b[1;32mc:\\Users\\ctlab\\DSS\\skin-cancer-detector\\train.ipynb Cell 1\u001b[0m line \u001b[0;36m7\n\u001b[0;32m      <a href='vscode-notebook-cell:/c%3A/Users/ctlab/DSS/skin-cancer-detector/train.ipynb#W0sZmlsZQ%3D%3D?line=3'>4</a>\u001b[0m model \u001b[39m=\u001b[39m YOLO(\u001b[39m'\u001b[39m\u001b[39m/model/yolov8s-cls.pt\u001b[39m\u001b[39m'\u001b[39m)  \u001b[39m# load a pretrained model (recommended for training)\u001b[39;00m\n\u001b[0;32m      <a href='vscode-notebook-cell:/c%3A/Users/ctlab/DSS/skin-cancer-detector/train.ipynb#W0sZmlsZQ%3D%3D?line=5'>6</a>\u001b[0m \u001b[39m# Train the model\u001b[39;00m\n\u001b[1;32m----> <a href='vscode-notebook-cell:/c%3A/Users/ctlab/DSS/skin-cancer-detector/train.ipynb#W0sZmlsZQ%3D%3D?line=6'>7</a>\u001b[0m results \u001b[39m=\u001b[39m model\u001b[39m.\u001b[39;49mtrain(data\u001b[39m=\u001b[39;49m\u001b[39m'\u001b[39;49m\u001b[39m../skin-cancer-detector/prep_dataset/test\u001b[39;49m\u001b[39m'\u001b[39;49m, epochs\u001b[39m=\u001b[39;49m\u001b[39m100\u001b[39;49m, imgsz\u001b[39m=\u001b[39;49m\u001b[39m28\u001b[39;49m)\n",
      "File \u001b[1;32mc:\\Users\\ctlab\\anaconda3\\envs\\yolo\\lib\\site-packages\\ultralytics\\yolo\\engine\\model.py:279\u001b[0m, in \u001b[0;36mYOLO.train\u001b[1;34m(self, **kwargs)\u001b[0m\n\u001b[0;32m    276\u001b[0m \u001b[39mif\u001b[39;00m overrides\u001b[39m.\u001b[39mget(\u001b[39m'\u001b[39m\u001b[39mresume\u001b[39m\u001b[39m'\u001b[39m):\n\u001b[0;32m    277\u001b[0m     overrides[\u001b[39m'\u001b[39m\u001b[39mresume\u001b[39m\u001b[39m'\u001b[39m] \u001b[39m=\u001b[39m \u001b[39mself\u001b[39m\u001b[39m.\u001b[39mckpt_path\n\u001b[1;32m--> 279\u001b[0m \u001b[39mself\u001b[39m\u001b[39m.\u001b[39mtrainer \u001b[39m=\u001b[39m \u001b[39mself\u001b[39;49m\u001b[39m.\u001b[39;49mTrainerClass(overrides\u001b[39m=\u001b[39;49moverrides)\n\u001b[0;32m    280\u001b[0m \u001b[39mif\u001b[39;00m \u001b[39mnot\u001b[39;00m overrides\u001b[39m.\u001b[39mget(\u001b[39m'\u001b[39m\u001b[39mresume\u001b[39m\u001b[39m'\u001b[39m):  \u001b[39m# manually set model only if not resuming\u001b[39;00m\n\u001b[0;32m    281\u001b[0m     \u001b[39mself\u001b[39m\u001b[39m.\u001b[39mtrainer\u001b[39m.\u001b[39mmodel \u001b[39m=\u001b[39m \u001b[39mself\u001b[39m\u001b[39m.\u001b[39mtrainer\u001b[39m.\u001b[39mget_model(weights\u001b[39m=\u001b[39m\u001b[39mself\u001b[39m\u001b[39m.\u001b[39mmodel \u001b[39mif\u001b[39;00m \u001b[39mself\u001b[39m\u001b[39m.\u001b[39mckpt \u001b[39melse\u001b[39;00m \u001b[39mNone\u001b[39;00m, cfg\u001b[39m=\u001b[39m\u001b[39mself\u001b[39m\u001b[39m.\u001b[39mmodel\u001b[39m.\u001b[39myaml)\n",
      "File \u001b[1;32mc:\\Users\\ctlab\\anaconda3\\envs\\yolo\\lib\\site-packages\\ultralytics\\yolo\\v8\\classify\\train.py:20\u001b[0m, in \u001b[0;36mClassificationTrainer.__init__\u001b[1;34m(self, cfg, overrides)\u001b[0m\n\u001b[0;32m     18\u001b[0m     overrides \u001b[39m=\u001b[39m {}\n\u001b[0;32m     19\u001b[0m overrides[\u001b[39m'\u001b[39m\u001b[39mtask\u001b[39m\u001b[39m'\u001b[39m] \u001b[39m=\u001b[39m \u001b[39m'\u001b[39m\u001b[39mclassify\u001b[39m\u001b[39m'\u001b[39m\n\u001b[1;32m---> 20\u001b[0m \u001b[39msuper\u001b[39;49m()\u001b[39m.\u001b[39;49m\u001b[39m__init__\u001b[39;49m(cfg, overrides)\n",
      "File \u001b[1;32mc:\\Users\\ctlab\\anaconda3\\envs\\yolo\\lib\\site-packages\\ultralytics\\yolo\\engine\\trainer.py:131\u001b[0m, in \u001b[0;36mBaseTrainer.__init__\u001b[1;34m(self, cfg, overrides)\u001b[0m\n\u001b[0;32m    129\u001b[0m             \u001b[39mself\u001b[39m\u001b[39m.\u001b[39margs\u001b[39m.\u001b[39mdata \u001b[39m=\u001b[39m \u001b[39mself\u001b[39m\u001b[39m.\u001b[39mdata[\u001b[39m'\u001b[39m\u001b[39myaml_file\u001b[39m\u001b[39m'\u001b[39m]  \u001b[39m# for validating 'yolo train data=url.zip' usage\u001b[39;00m\n\u001b[0;32m    130\u001b[0m \u001b[39mexcept\u001b[39;00m \u001b[39mException\u001b[39;00m \u001b[39mas\u001b[39;00m e:\n\u001b[1;32m--> 131\u001b[0m     \u001b[39mraise\u001b[39;00m \u001b[39mFileNotFoundError\u001b[39;00m(emojis(\u001b[39mf\u001b[39m\u001b[39m\"\u001b[39m\u001b[39mDataset \u001b[39m\u001b[39m'\u001b[39m\u001b[39m{\u001b[39;00m\u001b[39mself\u001b[39m\u001b[39m.\u001b[39margs\u001b[39m.\u001b[39mdata\u001b[39m}\u001b[39;00m\u001b[39m'\u001b[39m\u001b[39m error ❌ \u001b[39m\u001b[39m{\u001b[39;00me\u001b[39m}\u001b[39;00m\u001b[39m\"\u001b[39m)) \u001b[39mfrom\u001b[39;00m \u001b[39me\u001b[39;00m\n\u001b[0;32m    133\u001b[0m \u001b[39mself\u001b[39m\u001b[39m.\u001b[39mtrainset, \u001b[39mself\u001b[39m\u001b[39m.\u001b[39mtestset \u001b[39m=\u001b[39m \u001b[39mself\u001b[39m\u001b[39m.\u001b[39mget_dataset(\u001b[39mself\u001b[39m\u001b[39m.\u001b[39mdata)\n\u001b[0;32m    134\u001b[0m \u001b[39mself\u001b[39m\u001b[39m.\u001b[39mema \u001b[39m=\u001b[39m \u001b[39mNone\u001b[39;00m\n",
      "\u001b[1;31mFileNotFoundError\u001b[0m: Dataset '../skin-cancer-detector/prep_dataset/test' error  File 'C:\\Users\\ctlab\\final project\\yolov8-fastapi\\skin-cancer-detector\\prep_dataset\\test.zip' does not exist or is a bad zip file."
     ]
    }
   ],
   "source": [
    "from ultralytics import YOLO\n",
    "import os\n",
    "# Load a model\n",
    "model = YOLO('/model/yolov8s-cls.pt')  # load a pretrained model (recommended for training)\n",
    "\n",
    "# Train the model\n",
    "results = model.train(data='C:\\Users\\ctlab\\DSS\\skin-cancer-detector\\prep_dataset\\test', epochs=100, imgsz=28)"
   ]
  },
  {
   "cell_type": "markdown",
   "metadata": {},
   "source": []
  },
  {
   "cell_type": "markdown",
   "metadata": {},
   "source": []
  },
  {
   "cell_type": "code",
   "execution_count": 8,
   "metadata": {},
   "outputs": [
    {
     "data": {
      "text/plain": [
       "'c:\\\\Users\\\\ctlab\\\\DSS\\\\skin-cancer-detector'"
      ]
     },
     "execution_count": 8,
     "metadata": {},
     "output_type": "execute_result"
    }
   ],
   "source": [
    "os.getcwd()"
   ]
  },
  {
   "cell_type": "code",
   "execution_count": null,
   "metadata": {},
   "outputs": [],
   "source": []
  }
 ],
 "metadata": {
  "kernelspec": {
   "display_name": "yolo",
   "language": "python",
   "name": "python3"
  },
  "language_info": {
   "codemirror_mode": {
    "name": "ipython",
    "version": 3
   },
   "file_extension": ".py",
   "mimetype": "text/x-python",
   "name": "python",
   "nbconvert_exporter": "python",
   "pygments_lexer": "ipython3",
   "version": "3.8.17"
  }
 },
 "nbformat": 4,
 "nbformat_minor": 2
}
